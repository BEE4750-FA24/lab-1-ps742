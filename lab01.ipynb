{
  "cells": [
    {
      "cell_type": "markdown",
      "id": "7b030395-ff9d-488b-893a-3f2925d07a29",
      "metadata": {},
      "source": [
        "# BEE 4750 Lab 1: Julia and GitHub Basics\n",
        "\n",
        "**Name**: Priya Shah\n",
        "\n",
        "**ID**: 5244508\n",
        "\n",
        "> **Due Date**\n",
        ">\n",
        "> Wednesday, 8/28/24, 9:00pm\n",
        "\n",
        "## Setup\n",
        "\n",
        "The following code should go at the top of most Julia scripts; it will\n",
        "load the local package environment and install any needed packages. You\n",
        "will see this often and shouldn’t need to touch it."
      ]
    },
    {
      "cell_type": "code",
      "execution_count": 13,
      "id": "2",
      "metadata": {},
      "outputs": [
        {
          "name": "stderr",
          "output_type": "stream",
          "text": [
            "\u001b[32m\u001b[1m  Activating\u001b[22m\u001b[39m project at `~/Downloads/BEE4750/lab-1-ps742`\n"
          ]
        }
      ],
      "source": [
        "import Pkg\n",
        "Pkg.activate(\".\")\n",
        "Pkg.instantiate()"
      ]
    },
    {
      "cell_type": "markdown",
      "id": "b0c0f53b-93bc-4baa-8b0e-bdb58e8ff961",
      "metadata": {},
      "source": [
        "This next cell loads packages which are required for the rest of the\n",
        "code evaluation. In this case, we only need to load the `Plots.jl`\n",
        "plotting package, but you will see others over the course of the\n",
        "semester (and can add more if desired; just make sure that you’ve [added\n",
        "the new packages to the\n",
        "environment](https://viveks.me/environmental-systems-analysis/tutorials/julia-basics.html#package-management)).\n",
        "Standard Julia practice is to load all of the needed packages at the top\n",
        "of the file.\n",
        "\n",
        "> **Warning**\n",
        ">\n",
        "> Loading packages can take a while, especially the first time! Julia\n",
        "> tries to precompile all of the packages you’re using so repeat use is\n",
        "> faster, but this can be quite slow at first."
      ]
    },
    {
      "cell_type": "code",
      "execution_count": 14,
      "id": "4",
      "metadata": {},
      "outputs": [],
      "source": [
        "using Plots"
      ]
    },
    {
      "cell_type": "markdown",
      "id": "6d2bc421-d992-4864-a390-fd6d7820f6c0",
      "metadata": {},
      "source": [
        "## Introduction\n",
        "\n",
        "### Julia\n",
        "\n",
        "Julia is an up-and-coming language, originally developed for scientific\n",
        "programming. While learning a new programming language always has its\n",
        "hiccups, the good news is that if you’ve programmed in a high-level\n",
        "language such as Python or MATLAB, most Julia concepts should look\n",
        "familiar.\n",
        "\n",
        "If you have not successfully set up Julia, follow the instructions in\n",
        "[Tools\n",
        "Setup](https://viveks.me/environmental-systems-analysis/setup.html)\n",
        "and/or ask for help.\n",
        "\n",
        "You can use other editors for this course, but our recommendation is\n",
        "[Visual Studio Code](https://code.visualstudio.com/) with the [Julia\n",
        "extension](https://marketplace.visualstudio.com/items?itemName=julialang.language-julia),\n",
        "which will make life a *lot* simpler! You should have set this up by\n",
        "following the [Tools\n",
        "Setup](https://viveks.me/environmental-systems-analysis/setup.html)\n",
        "instructions, but if not, do so now and/or ask for help.\n",
        "\n",
        "### Jupyter Notebooks\n",
        "\n",
        "Jupyter notebooks integrate text and equations in Markdown with Julia\n",
        "(or Python, or R) code. To do this, Jupyter notebooks consist of two\n",
        "types of “cells”: code cells and Markdown (text) cells.\n",
        "\n",
        "Click once on this section of text. A box will appear around this text\n",
        "(and some areas above/below it) - all of that is within this cell.\n",
        "\n",
        "Markdown is a text markup framework for formatting language that makes\n",
        "things look pretty when viewed across different platforms: web browsers,\n",
        "notebooks, and so forth. Text written in Markdown can also include\n",
        "hyperlinks, LaTeX equations, section headers, and images, among other\n",
        "features (most of [the course\n",
        "website](https://viveks.me/climate-risk-analysis) and the lecture notes\n",
        "were all written in Markdown!). [Here is a basic Markdown cheat\n",
        "sheet](https://www.markdownguide.org/cheat-sheet/).\n",
        "\n",
        "What you are looking at right now is the formatted text after the\n",
        "Markdown is processed. To see the raw Markdown, do one of:\n",
        "\n",
        "-   press `Enter` while that cell is selected, or\n",
        "-   double-click on that cell.\n",
        "\n",
        "------------------------------------------------------------------------\n",
        "\n",
        "A couple of the features you will see in this Markdown cell:\n",
        "\n",
        "-   The `---` command creates a horizontal line. This is also nice for\n",
        "    separating sections.\n",
        "-   Backticks (`` `...` ``) can be used to format and highlight code,\n",
        "    keystrokes, etc.\n",
        "-   The `#` sign is used to create a new section header; two `#` signs\n",
        "    (`##`) is used to create a new subsection header; `###` creates a\n",
        "    subsubsection, and so on.\n",
        "-   You can create a bulleted list by using the asterisk `*` or a dash\n",
        "    `-` and a space.\n",
        "-   You can create regular text by just typing as usual.\n",
        "-   You can create **bold-faced text** by wrapping it with two asterisks\n",
        "    on both sides.\n",
        "-   You can create *italicized text* by wrapping it with a single\n",
        "    asterisk on both sides.\n",
        "-   To create a new paragraph, you must include a blank line between the\n",
        "    old and new paragraphs.\n",
        "\n",
        "At this point you might be wondering how to turn this cell back into the\n",
        "fully formatted Markdown text instead of the raw Markdown you’re\n",
        "probably still looking at. You have a couple of options, depending on\n",
        "your platform, but the most consistent is to type `Shift + Enter` to\n",
        "**execute** the cell (this is also how to run code, but more on that\n",
        "later).\n",
        "\n",
        "Additionally, you will frequently need to create new cells in your\n",
        "Jupyter notebooks. How you do this will depend on how you interact with\n",
        "the notebook, but try to figure this out now.\n",
        "\n",
        "One tip is to think carefully about what bits of code should be in the\n",
        "same cell, as you typically only see output from the last command in a\n",
        "cell. For example, compare the following:"
      ]
    },
    {
      "cell_type": "code",
      "execution_count": 15,
      "id": "6",
      "metadata": {},
      "outputs": [
        {
          "data": {
            "text/plain": [
              "-0.9589242746631385"
            ]
          },
          "metadata": {},
          "output_type": "display_data"
        }
      ],
      "source": [
        "x = 5\n",
        "sin(x)"
      ]
    },
    {
      "cell_type": "markdown",
      "id": "0b56a2f1-81e8-4426-b62a-95cfc3933b92",
      "metadata": {},
      "source": [
        "with"
      ]
    },
    {
      "cell_type": "code",
      "execution_count": 16,
      "id": "8",
      "metadata": {},
      "outputs": [
        {
          "data": {
            "text/plain": [
              "5"
            ]
          },
          "metadata": {},
          "output_type": "display_data"
        }
      ],
      "source": [
        "x = 5"
      ]
    },
    {
      "cell_type": "code",
      "execution_count": 17,
      "id": "10",
      "metadata": {},
      "outputs": [
        {
          "data": {
            "text/plain": [
              "-0.9589242746631385"
            ]
          },
          "metadata": {},
          "output_type": "display_data"
        }
      ],
      "source": [
        "sin(x)"
      ]
    },
    {
      "cell_type": "markdown",
      "id": "474d541d-93e6-47e1-874f-80abd6c9d7cc",
      "metadata": {},
      "source": [
        "In Julia, you can also suppress the output of a command with a\n",
        "semi-colon:"
      ]
    },
    {
      "cell_type": "code",
      "execution_count": 18,
      "id": "12",
      "metadata": {},
      "outputs": [],
      "source": [
        "sin(x);"
      ]
    },
    {
      "cell_type": "markdown",
      "id": "e5950d08-d04e-4fc7-bed8-33e0ee9a1909",
      "metadata": {},
      "source": [
        "which can help if you want to split some code out for clarity or to\n",
        "insert some text prior to it, but don’t want to clutter the notebook\n",
        "with its output.\n",
        "\n",
        "For code cells, to execute the commands within the cell, we also press\n",
        "`Shift+Enter`.\n",
        "\n",
        "Finally, **make sure that you evaluate all of the code cells in order\n",
        "before submitting**. One bad outcome with notebooks occurs when cells\n",
        "are evaluated out of order, so fixed bugs and edits in previous cells do\n",
        "not get a chance to propagate down. You can do this with the `Run All`\n",
        "command in whichever interface you’re using to edit your notebook.\n",
        "\n",
        "### Julia Basics\n",
        "\n",
        "There are many tutorials and references for Julia, including a [basics\n",
        "overview on the class website](../tutorials/julia-basics.html). Please\n",
        "feel free to reference these as you work through any part of the course.\n",
        "\n",
        "### Formatting Math\n",
        "\n",
        "It will often be helpful to include nicely-formatted mathematics in a\n",
        "notebook. Markdown accomodates this using LaTeX syntax. A LaTeX\n",
        "cheatsheet is available on the class website, and many other guides\n",
        "exist online.\n",
        "\n",
        "Below is an example of a formatted equation: $$x = 5.$$\n",
        "\n",
        "### Looking For Help\n",
        "\n",
        "There is no shame in using Google, or other resources, for help when\n",
        "programming. There are many, many times when you can’t quite get the\n",
        "syntax to work, can’t quite figure out the right package or command to\n",
        "use, or are feeling too lazy or overwhelmed (I’m not judging either of\n",
        "those!) to dig through the documentation. Some good resources include:\n",
        "\n",
        "-   [Stack Overflow](https://stackoverflow.com/) is a treasure trove of\n",
        "    answers;\n",
        "-   The [official Julia forum](https://discourse.julialang.org/) and the\n",
        "    [Julia Subreddit](https://www.reddit.com/r/Julia/) are also very\n",
        "    useful.\n",
        "\n",
        "You are also highly encouraged to post on [Ed\n",
        "Discussion](https://us.edstem.org), though getting a response might be\n",
        "less immediate. Just be mindful that to get good answers, [you have to\n",
        "help people help you](https://stackoverflow.com/help/how-to-ask), and\n",
        "**make sure to give credit to any resources that were helpful**!\n",
        "\n",
        "## Exercises (3 points)\n",
        "\n",
        "Use your understanding of Julia syntax and the GitHub workflow to\n",
        "complete the following (hopefully short) exercises. Convert your\n",
        "completed lab assignment to a PDF and submit it to the Gradescope\n",
        "Assignment “Lab 1”.\n",
        "\n",
        "**Remember to**:\n",
        "\n",
        "-   Include a (succint but clear) writeup of the core idea underlying\n",
        "    your code, through some combination of equations, text, and\n",
        "    algorithms. As you are not required to submit your code, we will not\n",
        "    be looking at it in detail, and instead will rely on those writeups\n",
        "    to assess whether your approach is correct.\n",
        "-   If using the notebook, evaluate all of your code cells, in order\n",
        "    (using a `Run All` command). This will make sure all output is\n",
        "    visible and that the code cells were evaluated in the correct order.\n",
        "-   Tag each of the problems when you submit to Gradescope; a 10%\n",
        "    penalty will be deducted if this is not done.\n",
        "\n",
        "### Computing a Dot Product\n",
        "\n",
        "Given two numeric arrays `x` and `y`, write a function to compute their\n",
        "dot product if they have equal length, and return an error if not (this\n",
        "is useful for debugging!). Use the following code as a starting point."
      ]
    },
    {
      "cell_type": "code",
      "execution_count": 19,
      "id": "2e517001",
      "metadata": {},
      "outputs": [
        {
          "data": {
            "text/plain": [
              "2"
            ]
          },
          "metadata": {},
          "output_type": "display_data"
        }
      ],
      "source": [
        "x=[1 2 3];\n",
        "length(x);\n",
        "x[2]"
      ]
    },
    {
      "cell_type": "code",
      "execution_count": 20,
      "id": "14",
      "metadata": {},
      "outputs": [
        {
          "data": {
            "text/plain": [
              "dot_product (generic function with 1 method)"
            ]
          },
          "metadata": {},
          "output_type": "display_data"
        }
      ],
      "source": [
        "function dot_product(x, y)\n",
        "    if  length(x)==length(y) # insert test condition for equal lengths\n",
        "        # compute and return dot product\n",
        "        sum0=0;\n",
        "        for i=1:length(x);\n",
        "            sum=x[i]*y[i];\n",
        "            sum=sum+sum0;\n",
        "            sum0=sum;\n",
        "        end\n",
        "        sum0\n",
        "    else\n",
        "        throw(DimensionMismatch(\"length of x not equal to length of y\"))\n",
        "    end\n",
        "end"
      ]
    },
    {
      "cell_type": "markdown",
      "id": "e0ce47a6-a5e8-4cd8-a776-5b04adfa6330",
      "metadata": {},
      "source": [
        "Here are some tests to make sure your code works as intended. Tests like\n",
        "these are useful to make sure everything works as intended. One reason\n",
        "to split your code up into functions is that it makes it straightforward\n",
        "to write tests to make sure each piece of your code works, which makes\n",
        "it easier to identify where errors are occuring."
      ]
    },
    {
      "cell_type": "code",
      "execution_count": 21,
      "id": "16",
      "metadata": {},
      "outputs": [
        {
          "data": {
            "text/plain": [
              "32"
            ]
          },
          "metadata": {},
          "output_type": "display_data"
        }
      ],
      "source": [
        "dot_product([1 2 3], [4 5 6])"
      ]
    },
    {
      "cell_type": "markdown",
      "id": "37f85171-25e8-4513-b57c-af25ff4378e7",
      "metadata": {},
      "source": [
        "If you know the value you should get, you can write a more formal test\n",
        "using the `@assert` macro, which is a good way to “automate” checking\n",
        "(since you get an obvious error if the code doesn’t work as desired):"
      ]
    },
    {
      "cell_type": "code",
      "execution_count": 22,
      "id": "18",
      "metadata": {},
      "outputs": [],
      "source": [
        "@assert dot_product([1 2 3], [4 5 6]) == 32"
      ]
    },
    {
      "cell_type": "markdown",
      "id": "65ccdcd8-449e-4f0c-8f4e-7953ea267f8d",
      "metadata": {},
      "source": [
        "Let’s also make sure we get an error when the dimensions of the two\n",
        "vectors don’t match:"
      ]
    },
    {
      "cell_type": "code",
      "execution_count": 23,
      "id": "20",
      "metadata": {},
      "outputs": [
        {
          "ename": "DimensionMismatch",
          "evalue": "DimensionMismatch: length of x not equal to length of y",
          "output_type": "error",
          "traceback": [
            "DimensionMismatch: length of x not equal to length of y\n",
            "\n",
            "Stacktrace:\n",
            " [1] dot_product(x::Matrix{Int64}, y::Matrix{Int64})\n",
            "   @ Main ~/Downloads/BEE4750/lab-1-ps742/jl_notebook_cell_df34fa98e69747e1a8f8a730347b8e2f_X15sZmlsZQ==.jl:12\n",
            " [2] top-level scope\n",
            "   @ ~/Downloads/BEE4750/lab-1-ps742/jl_notebook_cell_df34fa98e69747e1a8f8a730347b8e2f_X24sZmlsZQ==.jl:1"
          ]
        }
      ],
      "source": [
        "dot_product([1 2 3], [4 5])"
      ]
    },
    {
      "cell_type": "markdown",
      "id": "8c069a05-159a-43b4-aa3f-d1fec9a2f727",
      "metadata": {},
      "source": [
        "### Making a Plot\n",
        "\n",
        "Write a function to compute the square of an integer `x`. Evaluate this\n",
        "function for integers between $x=-5$ and $x=5$ and make a plot of the\n",
        "squared values (you can find a quick guide to making various types of\n",
        "plots\n",
        "[here](https://viveks.me/environmental-systems-analysis/tutorials/julia-plots.html)).\n",
        "Make sure to label your axes."
      ]
    },
    {
      "cell_type": "code",
      "execution_count": 24,
      "id": "22",
      "metadata": {},
      "outputs": [
        {
          "name": "stdout",
          "output_type": "stream",
          "text": [
            "Any[25, 16, 9, 4, 1, 0, 1, 4, 9, 16, 25]"
          ]
        },
        {
          "data": {
            "image/png": "[encoded data removed]",
            "image/svg+xml": [
              "<?xml version=\"1.0\" encoding=\"utf-8\"?>\n",
              "<svg xmlns=\"http://www.w3.org/2000/svg\" xmlns:xlink=\"http://www.w3.org/1999/xlink\" width=\"600\" height=\"400\" viewBox=\"0 0 2400 1600\">\n",
              "<defs>\n",
              "  <clipPath id=\"clip530\">\n",
              "    <rect x=\"0\" y=\"0\" width=\"2400\" height=\"1600\"/>\n",
              "  </clipPath>\n",
              "</defs>\n",
              "<path clip-path=\"url(#clip530)\" d=\"M0 1600 L2400 1600 L2400 8.88178e-14 L0 8.88178e-14  Z\" fill=\"#ffffff\" fill-rule=\"evenodd\" fill-opacity=\"1\"/>\n",
              "<defs>\n",
              "  <clipPath id=\"clip531\">\n",
              "    <rect x=\"480\" y=\"0\" width=\"1681\" height=\"1600\"/>\n",
              "  </clipPath>\n",
              "</defs>\n",
              "<path clip-path=\"url(#clip530)\" d=\"M140.696 1486.45 L2352.76 1486.45 L2352.76 47.2441 L140.696 47.2441  Z\" fill=\"#ffffff\" fill-rule=\"evenodd\" fill-opacity=\"1\"/>\n",
              "<defs>\n",
              "  <clipPath id=\"clip532\">\n",
              "    <rect x=\"140\" y=\"47\" width=\"2213\" height=\"1440\"/>\n",
              "  </clipPath>\n",
              "</defs>\n",
              "<polyline clip-path=\"url(#clip532)\" style=\"stroke:#000000; stroke-linecap:round; stroke-linejoin:round; stroke-width:2; stroke-opacity:0.1; fill:none\" points=\"411.986,1486.45 411.986,47.2441 \"/>\n",
              "<polyline clip-path=\"url(#clip532)\" style=\"stroke:#000000; stroke-linecap:round; stroke-linejoin:round; stroke-width:2; stroke-opacity:0.1; fill:none\" points=\"829.356,1486.45 829.356,47.2441 \"/>\n",
              "<polyline clip-path=\"url(#clip532)\" style=\"stroke:#000000; stroke-linecap:round; stroke-linejoin:round; stroke-width:2; stroke-opacity:0.1; fill:none\" points=\"1246.73,1486.45 1246.73,47.2441 \"/>\n",
              "<polyline clip-path=\"url(#clip532)\" style=\"stroke:#000000; stroke-linecap:round; stroke-linejoin:round; stroke-width:2; stroke-opacity:0.1; fill:none\" points=\"1664.1,1486.45 1664.1,47.2441 \"/>\n",
              "<polyline clip-path=\"url(#clip532)\" style=\"stroke:#000000; stroke-linecap:round; stroke-linejoin:round; stroke-width:2; stroke-opacity:0.1; fill:none\" points=\"2081.47,1486.45 2081.47,47.2441 \"/>\n",
              "<polyline clip-path=\"url(#clip530)\" style=\"stroke:#000000; stroke-linecap:round; stroke-linejoin:round; stroke-width:4; stroke-opacity:1; fill:none\" points=\"140.696,1486.45 2352.76,1486.45 \"/>\n",
              "<polyline clip-path=\"url(#clip530)\" style=\"stroke:#000000; stroke-linecap:round; stroke-linejoin:round; stroke-width:4; stroke-opacity:1; fill:none\" points=\"411.986,1486.45 411.986,1467.55 \"/>\n",
              "<polyline clip-path=\"url(#clip530)\" style=\"stroke:#000000; stroke-linecap:round; stroke-linejoin:round; stroke-width:4; stroke-opacity:1; fill:none\" points=\"829.356,1486.45 829.356,1467.55 \"/>\n",
              "<polyline clip-path=\"url(#clip530)\" style=\"stroke:#000000; stroke-linecap:round; stroke-linejoin:round; stroke-width:4; stroke-opacity:1; fill:none\" points=\"1246.73,1486.45 1246.73,1467.55 \"/>\n",
              "<polyline clip-path=\"url(#clip530)\" style=\"stroke:#000000; stroke-linecap:round; stroke-linejoin:round; stroke-width:4; stroke-opacity:1; fill:none\" points=\"1664.1,1486.45 1664.1,1467.55 \"/>\n",
              "<polyline clip-path=\"url(#clip530)\" style=\"stroke:#000000; stroke-linecap:round; stroke-linejoin:round; stroke-width:4; stroke-opacity:1; fill:none\" points=\"2081.47,1486.45 2081.47,1467.55 \"/>\n",
              "<path clip-path=\"url(#clip530)\" d=\"M406.639 1544.91 L422.958 1544.91 L422.958 1548.85 L401.014 1548.85 L401.014 1544.91 Q403.676 1542.16 408.259 1537.53 Q412.866 1532.88 414.046 1531.53 Q416.291 1529.01 417.171 1527.27 Q418.074 1525.51 418.074 1523.82 Q418.074 1521.07 416.129 1519.33 Q414.208 1517.6 411.106 1517.6 Q408.907 1517.6 406.454 1518.36 Q404.023 1519.13 401.245 1520.68 L401.245 1515.95 Q404.069 1514.82 406.523 1514.24 Q408.977 1513.66 411.014 1513.66 Q416.384 1513.66 419.579 1516.35 Q422.773 1519.03 422.773 1523.52 Q422.773 1525.65 421.963 1527.57 Q421.176 1529.47 419.069 1532.07 Q418.491 1532.74 415.389 1535.95 Q412.287 1539.15 406.639 1544.91 Z\" fill=\"#000000\" fill-rule=\"nonzero\" fill-opacity=\"1\" /><path clip-path=\"url(#clip530)\" d=\"M832.365 1518.36 L820.56 1536.81 L832.365 1536.81 L832.365 1518.36 M831.138 1514.29 L837.018 1514.29 L837.018 1536.81 L841.948 1536.81 L841.948 1540.7 L837.018 1540.7 L837.018 1548.85 L832.365 1548.85 L832.365 1540.7 L816.763 1540.7 L816.763 1536.19 L831.138 1514.29 Z\" fill=\"#000000\" fill-rule=\"nonzero\" fill-opacity=\"1\" /><path clip-path=\"url(#clip530)\" d=\"M1247.13 1529.7 Q1243.98 1529.7 1242.13 1531.86 Q1240.3 1534.01 1240.3 1537.76 Q1240.3 1541.49 1242.13 1543.66 Q1243.98 1545.82 1247.13 1545.82 Q1250.28 1545.82 1252.11 1543.66 Q1253.96 1541.49 1253.96 1537.76 Q1253.96 1534.01 1252.11 1531.86 Q1250.28 1529.7 1247.13 1529.7 M1256.41 1515.05 L1256.41 1519.31 Q1254.65 1518.48 1252.85 1518.04 Q1251.07 1517.6 1249.31 1517.6 Q1244.68 1517.6 1242.22 1520.72 Q1239.79 1523.85 1239.45 1530.17 Q1240.81 1528.15 1242.87 1527.09 Q1244.93 1526 1247.41 1526 Q1252.62 1526 1255.63 1529.17 Q1258.66 1532.32 1258.66 1537.76 Q1258.66 1543.08 1255.51 1546.3 Q1252.36 1549.52 1247.13 1549.52 Q1241.14 1549.52 1237.96 1544.94 Q1234.79 1540.33 1234.79 1531.6 Q1234.79 1523.41 1238.68 1518.55 Q1242.57 1513.66 1249.12 1513.66 Q1250.88 1513.66 1252.66 1514.01 Q1254.47 1514.36 1256.41 1515.05 Z\" fill=\"#000000\" fill-rule=\"nonzero\" fill-opacity=\"1\" /><path clip-path=\"url(#clip530)\" d=\"M1664.1 1532.44 Q1660.76 1532.44 1658.84 1534.22 Q1656.94 1536 1656.94 1539.13 Q1656.94 1542.25 1658.84 1544.03 Q1660.76 1545.82 1664.1 1545.82 Q1667.43 1545.82 1669.35 1544.03 Q1671.27 1542.23 1671.27 1539.13 Q1671.27 1536 1669.35 1534.22 Q1667.45 1532.44 1664.1 1532.44 M1659.42 1530.45 Q1656.41 1529.7 1654.72 1527.64 Q1653.05 1525.58 1653.05 1522.62 Q1653.05 1518.48 1655.99 1516.07 Q1658.96 1513.66 1664.1 1513.66 Q1669.26 1513.66 1672.2 1516.07 Q1675.14 1518.48 1675.14 1522.62 Q1675.14 1525.58 1673.45 1527.64 Q1671.78 1529.7 1668.79 1530.45 Q1672.17 1531.23 1674.05 1533.52 Q1675.95 1535.82 1675.95 1539.13 Q1675.95 1544.15 1672.87 1546.83 Q1669.81 1549.52 1664.1 1549.52 Q1658.38 1549.52 1655.3 1546.83 Q1652.24 1544.15 1652.24 1539.13 Q1652.24 1535.82 1654.14 1533.52 Q1656.04 1531.23 1659.42 1530.45 M1657.71 1523.06 Q1657.71 1525.75 1659.37 1527.25 Q1661.06 1528.76 1664.1 1528.76 Q1667.1 1528.76 1668.79 1527.25 Q1670.51 1525.75 1670.51 1523.06 Q1670.51 1520.38 1668.79 1518.87 Q1667.1 1517.37 1664.1 1517.37 Q1661.06 1517.37 1659.37 1518.87 Q1657.71 1520.38 1657.71 1523.06 Z\" fill=\"#000000\" fill-rule=\"nonzero\" fill-opacity=\"1\" /><path clip-path=\"url(#clip530)\" d=\"M2056.15 1544.91 L2063.79 1544.91 L2063.79 1518.55 L2055.48 1520.21 L2055.48 1515.95 L2063.75 1514.29 L2068.42 1514.29 L2068.42 1544.91 L2076.06 1544.91 L2076.06 1548.85 L2056.15 1548.85 L2056.15 1544.91 Z\" fill=\"#000000\" fill-rule=\"nonzero\" fill-opacity=\"1\" /><path clip-path=\"url(#clip530)\" d=\"M2095.5 1517.37 Q2091.89 1517.37 2090.06 1520.93 Q2088.26 1524.47 2088.26 1531.6 Q2088.26 1538.71 2090.06 1542.27 Q2091.89 1545.82 2095.5 1545.82 Q2099.14 1545.82 2100.94 1542.27 Q2102.77 1538.71 2102.77 1531.6 Q2102.77 1524.47 2100.94 1520.93 Q2099.14 1517.37 2095.5 1517.37 M2095.5 1513.66 Q2101.31 1513.66 2104.37 1518.27 Q2107.45 1522.85 2107.45 1531.6 Q2107.45 1540.33 2104.37 1544.94 Q2101.31 1549.52 2095.5 1549.52 Q2089.69 1549.52 2086.62 1544.94 Q2083.56 1540.33 2083.56 1531.6 Q2083.56 1522.85 2086.62 1518.27 Q2089.69 1513.66 2095.5 1513.66 Z\" fill=\"#000000\" fill-rule=\"nonzero\" fill-opacity=\"1\" /><polyline clip-path=\"url(#clip532)\" style=\"stroke:#000000; stroke-linecap:round; stroke-linejoin:round; stroke-width:2; stroke-opacity:0.1; fill:none\" points=\"140.696,1445.72 2352.76,1445.72 \"/>\n",
              "<polyline clip-path=\"url(#clip532)\" style=\"stroke:#000000; stroke-linecap:round; stroke-linejoin:round; stroke-width:2; stroke-opacity:0.1; fill:none\" points=\"140.696,1174.17 2352.76,1174.17 \"/>\n",
              "<polyline clip-path=\"url(#clip532)\" style=\"stroke:#000000; stroke-linecap:round; stroke-linejoin:round; stroke-width:2; stroke-opacity:0.1; fill:none\" points=\"140.696,902.62 2352.76,902.62 \"/>\n",
              "<polyline clip-path=\"url(#clip532)\" style=\"stroke:#000000; stroke-linecap:round; stroke-linejoin:round; stroke-width:2; stroke-opacity:0.1; fill:none\" points=\"140.696,631.072 2352.76,631.072 \"/>\n",
              "<polyline clip-path=\"url(#clip532)\" style=\"stroke:#000000; stroke-linecap:round; stroke-linejoin:round; stroke-width:2; stroke-opacity:0.1; fill:none\" points=\"140.696,359.524 2352.76,359.524 \"/>\n",
              "<polyline clip-path=\"url(#clip532)\" style=\"stroke:#000000; stroke-linecap:round; stroke-linejoin:round; stroke-width:2; stroke-opacity:0.1; fill:none\" points=\"140.696,87.9763 2352.76,87.9763 \"/>\n",
              "<polyline clip-path=\"url(#clip530)\" style=\"stroke:#000000; stroke-linecap:round; stroke-linejoin:round; stroke-width:4; stroke-opacity:1; fill:none\" points=\"140.696,1486.45 140.696,47.2441 \"/>\n",
              "<polyline clip-path=\"url(#clip530)\" style=\"stroke:#000000; stroke-linecap:round; stroke-linejoin:round; stroke-width:4; stroke-opacity:1; fill:none\" points=\"140.696,1445.72 159.593,1445.72 \"/>\n",
              "<polyline clip-path=\"url(#clip530)\" style=\"stroke:#000000; stroke-linecap:round; stroke-linejoin:round; stroke-width:4; stroke-opacity:1; fill:none\" points=\"140.696,1174.17 159.593,1174.17 \"/>\n",
              "<polyline clip-path=\"url(#clip530)\" style=\"stroke:#000000; stroke-linecap:round; stroke-linejoin:round; stroke-width:4; stroke-opacity:1; fill:none\" points=\"140.696,902.62 159.593,902.62 \"/>\n",
              "<polyline clip-path=\"url(#clip530)\" style=\"stroke:#000000; stroke-linecap:round; stroke-linejoin:round; stroke-width:4; stroke-opacity:1; fill:none\" points=\"140.696,631.072 159.593,631.072 \"/>\n",
              "<polyline clip-path=\"url(#clip530)\" style=\"stroke:#000000; stroke-linecap:round; stroke-linejoin:round; stroke-width:4; stroke-opacity:1; fill:none\" points=\"140.696,359.524 159.593,359.524 \"/>\n",
              "<polyline clip-path=\"url(#clip530)\" style=\"stroke:#000000; stroke-linecap:round; stroke-linejoin:round; stroke-width:4; stroke-opacity:1; fill:none\" points=\"140.696,87.9763 159.593,87.9763 \"/>\n",
              "<path clip-path=\"url(#clip530)\" d=\"M92.7512 1431.51 Q89.1401 1431.51 87.3114 1435.08 Q85.5058 1438.62 85.5058 1445.75 Q85.5058 1452.86 87.3114 1456.42 Q89.1401 1459.96 92.7512 1459.96 Q96.3854 1459.96 98.1909 1456.42 Q100.02 1452.86 100.02 1445.75 Q100.02 1438.62 98.1909 1435.08 Q96.3854 1431.51 92.7512 1431.51 M92.7512 1427.81 Q98.5613 1427.81 101.617 1432.42 Q104.696 1437 104.696 1445.75 Q104.696 1454.48 101.617 1459.08 Q98.5613 1463.67 92.7512 1463.67 Q86.941 1463.67 83.8623 1459.08 Q80.8068 1454.48 80.8068 1445.75 Q80.8068 1437 83.8623 1432.42 Q86.941 1427.81 92.7512 1427.81 Z\" fill=\"#000000\" fill-rule=\"nonzero\" fill-opacity=\"1\" /><path clip-path=\"url(#clip530)\" d=\"M83.7929 1156.89 L102.149 1156.89 L102.149 1160.82 L88.0753 1160.82 L88.0753 1169.3 Q89.0938 1168.95 90.1123 1168.79 Q91.1308 1168.6 92.1493 1168.6 Q97.9363 1168.6 101.316 1171.77 Q104.696 1174.94 104.696 1180.36 Q104.696 1185.94 101.223 1189.04 Q97.7511 1192.12 91.4317 1192.12 Q89.2558 1192.12 86.9873 1191.75 Q84.7419 1191.38 82.3346 1190.64 L82.3346 1185.94 Q84.4179 1187.07 86.6401 1187.63 Q88.8623 1188.18 91.3391 1188.18 Q95.3437 1188.18 97.6817 1186.08 Q100.02 1183.97 100.02 1180.36 Q100.02 1176.75 97.6817 1174.64 Q95.3437 1172.54 91.3391 1172.54 Q89.4641 1172.54 87.5892 1172.95 Q85.7373 1173.37 83.7929 1174.25 L83.7929 1156.89 Z\" fill=\"#000000\" fill-rule=\"nonzero\" fill-opacity=\"1\" /><path clip-path=\"url(#clip530)\" d=\"M53.3995 915.965 L61.0384 915.965 L61.0384 889.599 L52.7282 891.266 L52.7282 887.007 L60.9921 885.34 L65.668 885.34 L65.668 915.965 L73.3068 915.965 L73.3068 919.9 L53.3995 919.9 L53.3995 915.965 Z\" fill=\"#000000\" fill-rule=\"nonzero\" fill-opacity=\"1\" /><path clip-path=\"url(#clip530)\" d=\"M92.7512 888.419 Q89.1401 888.419 87.3114 891.983 Q85.5058 895.525 85.5058 902.655 Q85.5058 909.761 87.3114 913.326 Q89.1401 916.868 92.7512 916.868 Q96.3854 916.868 98.1909 913.326 Q100.02 909.761 100.02 902.655 Q100.02 895.525 98.1909 891.983 Q96.3854 888.419 92.7512 888.419 M92.7512 884.715 Q98.5613 884.715 101.617 889.321 Q104.696 893.905 104.696 902.655 Q104.696 911.381 101.617 915.988 Q98.5613 920.571 92.7512 920.571 Q86.941 920.571 83.8623 915.988 Q80.8068 911.381 80.8068 902.655 Q80.8068 893.905 83.8623 889.321 Q86.941 884.715 92.7512 884.715 Z\" fill=\"#000000\" fill-rule=\"nonzero\" fill-opacity=\"1\" /><path clip-path=\"url(#clip530)\" d=\"M54.3949 644.417 L62.0337 644.417 L62.0337 618.051 L53.7236 619.718 L53.7236 615.459 L61.9874 613.792 L66.6633 613.792 L66.6633 644.417 L74.3022 644.417 L74.3022 648.352 L54.3949 648.352 L54.3949 644.417 Z\" fill=\"#000000\" fill-rule=\"nonzero\" fill-opacity=\"1\" /><path clip-path=\"url(#clip530)\" d=\"M83.7929 613.792 L102.149 613.792 L102.149 617.727 L88.0753 617.727 L88.0753 626.199 Q89.0938 625.852 90.1123 625.69 Q91.1308 625.505 92.1493 625.505 Q97.9363 625.505 101.316 628.676 Q104.696 631.848 104.696 637.264 Q104.696 642.843 101.223 645.945 Q97.7511 649.023 91.4317 649.023 Q89.2558 649.023 86.9873 648.653 Q84.7419 648.283 82.3346 647.542 L82.3346 642.843 Q84.4179 643.977 86.6401 644.533 Q88.8623 645.088 91.3391 645.088 Q95.3437 645.088 97.6817 642.982 Q100.02 640.875 100.02 637.264 Q100.02 633.653 97.6817 631.547 Q95.3437 629.44 91.3391 629.44 Q89.4641 629.44 87.5892 629.857 Q85.7373 630.273 83.7929 631.153 L83.7929 613.792 Z\" fill=\"#000000\" fill-rule=\"nonzero\" fill-opacity=\"1\" /><path clip-path=\"url(#clip530)\" d=\"M56.6171 372.869 L72.9365 372.869 L72.9365 376.804 L50.9921 376.804 L50.9921 372.869 Q53.6541 370.114 58.2375 365.485 Q62.8439 360.832 64.0245 359.489 Q66.2698 356.966 67.1494 355.23 Q68.0522 353.471 68.0522 351.781 Q68.0522 349.027 66.1078 347.29 Q64.1865 345.554 61.0847 345.554 Q58.8856 345.554 56.4319 346.318 Q54.0014 347.082 51.2236 348.633 L51.2236 343.911 Q54.0477 342.777 56.5014 342.198 Q58.955 341.619 60.9921 341.619 Q66.3624 341.619 69.5568 344.304 Q72.7513 346.99 72.7513 351.48 Q72.7513 353.61 71.9411 355.531 Q71.1541 357.429 69.0476 360.022 Q68.4689 360.693 65.367 363.911 Q62.2652 367.105 56.6171 372.869 Z\" fill=\"#000000\" fill-rule=\"nonzero\" fill-opacity=\"1\" /><path clip-path=\"url(#clip530)\" d=\"M92.7512 345.323 Q89.1401 345.323 87.3114 348.888 Q85.5058 352.429 85.5058 359.559 Q85.5058 366.665 87.3114 370.23 Q89.1401 373.772 92.7512 373.772 Q96.3854 373.772 98.1909 370.23 Q100.02 366.665 100.02 359.559 Q100.02 352.429 98.1909 348.888 Q96.3854 345.323 92.7512 345.323 M92.7512 341.619 Q98.5613 341.619 101.617 346.226 Q104.696 350.809 104.696 359.559 Q104.696 368.286 101.617 372.892 Q98.5613 377.475 92.7512 377.475 Q86.941 377.475 83.8623 372.892 Q80.8068 368.286 80.8068 359.559 Q80.8068 350.809 83.8623 346.226 Q86.941 341.619 92.7512 341.619 Z\" fill=\"#000000\" fill-rule=\"nonzero\" fill-opacity=\"1\" /><path clip-path=\"url(#clip530)\" d=\"M57.6125 101.321 L73.9318 101.321 L73.9318 105.256 L51.9875 105.256 L51.9875 101.321 Q54.6495 98.5665 59.2328 93.9369 Q63.8393 89.2841 65.0198 87.9416 Q67.2652 85.4184 68.1448 83.6823 Q69.0476 81.9231 69.0476 80.2333 Q69.0476 77.4786 67.1032 75.7425 Q65.1819 74.0064 62.08 74.0064 Q59.881 74.0064 57.4273 74.7703 Q54.9967 75.5342 52.219 77.0851 L52.219 72.3629 Q55.043 71.2287 57.4967 70.65 Q59.9504 70.0713 61.9874 70.0713 Q67.3578 70.0713 70.5522 72.7565 Q73.7466 75.4416 73.7466 79.9323 Q73.7466 82.062 72.9365 83.9832 Q72.1494 85.8814 70.0429 88.474 Q69.4642 89.1453 66.3624 92.3628 Q63.2606 95.5573 57.6125 101.321 Z\" fill=\"#000000\" fill-rule=\"nonzero\" fill-opacity=\"1\" /><path clip-path=\"url(#clip530)\" d=\"M83.7929 70.6963 L102.149 70.6963 L102.149 74.6314 L88.0753 74.6314 L88.0753 83.1036 Q89.0938 82.7564 90.1123 82.5944 Q91.1308 82.4092 92.1493 82.4092 Q97.9363 82.4092 101.316 85.5805 Q104.696 88.7517 104.696 94.1684 Q104.696 99.747 101.223 102.849 Q97.7511 105.928 91.4317 105.928 Q89.2558 105.928 86.9873 105.557 Q84.7419 105.187 82.3346 104.446 L82.3346 99.747 Q84.4179 100.881 86.6401 101.437 Q88.8623 101.992 91.3391 101.992 Q95.3437 101.992 97.6817 99.8859 Q100.02 97.7795 100.02 94.1684 Q100.02 90.5573 97.6817 88.4508 Q95.3437 86.3443 91.3391 86.3443 Q89.4641 86.3443 87.5892 86.761 Q85.7373 87.1777 83.7929 88.0573 L83.7929 70.6963 Z\" fill=\"#000000\" fill-rule=\"nonzero\" fill-opacity=\"1\" /><polyline clip-path=\"url(#clip532)\" style=\"stroke:#009af9; stroke-linecap:round; stroke-linejoin:round; stroke-width:4; stroke-opacity:1; fill:none\" points=\"203.301,87.9763 411.986,576.762 620.671,956.93 829.356,1228.48 1038.04,1391.41 1246.73,1445.72 1455.41,1391.41 1664.1,1228.48 1872.78,956.93 2081.47,576.762 2290.15,87.9763 \"/>\n",
              "<path clip-path=\"url(#clip530)\" d=\"M2005.38 1438.47 L2279.02 1438.47 L2279.02 1334.79 L2005.38 1334.79  Z\" fill=\"#ffffff\" fill-rule=\"evenodd\" fill-opacity=\"1\"/>\n",
              "<polyline clip-path=\"url(#clip530)\" style=\"stroke:#000000; stroke-linecap:round; stroke-linejoin:round; stroke-width:4; stroke-opacity:1; fill:none\" points=\"2005.38,1438.47 2279.02,1438.47 2279.02,1334.79 2005.38,1334.79 2005.38,1438.47 \"/>\n",
              "<polyline clip-path=\"url(#clip530)\" style=\"stroke:#009af9; stroke-linecap:round; stroke-linejoin:round; stroke-width:4; stroke-opacity:1; fill:none\" points=\"2029.96,1386.63 2177.43,1386.63 \"/>\n",
              "<path clip-path=\"url(#clip530)\" d=\"M2215.85 1406.32 Q2214.05 1410.95 2212.34 1412.36 Q2210.62 1413.78 2207.75 1413.78 L2204.35 1413.78 L2204.35 1410.21 L2206.85 1410.21 Q2208.61 1410.21 2209.58 1409.38 Q2210.55 1408.54 2211.73 1405.44 L2212.5 1403.5 L2202.01 1377.99 L2206.53 1377.99 L2214.63 1398.27 L2222.73 1377.99 L2227.24 1377.99 L2215.85 1406.32 Z\" fill=\"#000000\" fill-rule=\"nonzero\" fill-opacity=\"1\" /><path clip-path=\"url(#clip530)\" d=\"M2234.53 1399.98 L2242.17 1399.98 L2242.17 1373.61 L2233.86 1375.28 L2233.86 1371.02 L2242.13 1369.35 L2246.8 1369.35 L2246.8 1399.98 L2254.44 1399.98 L2254.44 1403.91 L2234.53 1403.91 L2234.53 1399.98 Z\" fill=\"#000000\" fill-rule=\"nonzero\" fill-opacity=\"1\" /></svg>\n"
            ],
            "text/html": [
              "<?xml version=\"1.0\" encoding=\"utf-8\"?>\n",
              "<svg xmlns=\"http://www.w3.org/2000/svg\" xmlns:xlink=\"http://www.w3.org/1999/xlink\" width=\"600\" height=\"400\" viewBox=\"0 0 2400 1600\">\n",
              "<defs>\n",
              "  <clipPath id=\"clip580\">\n",
              "    <rect x=\"0\" y=\"0\" width=\"2400\" height=\"1600\"/>\n",
              "  </clipPath>\n",
              "</defs>\n",
              "<path clip-path=\"url(#clip580)\" d=\"M0 1600 L2400 1600 L2400 8.88178e-14 L0 8.88178e-14  Z\" fill=\"#ffffff\" fill-rule=\"evenodd\" fill-opacity=\"1\"/>\n",
              "<defs>\n",
              "  <clipPath id=\"clip581\">\n",
              "    <rect x=\"480\" y=\"0\" width=\"1681\" height=\"1600\"/>\n",
              "  </clipPath>\n",
              "</defs>\n",
              "<path clip-path=\"url(#clip580)\" d=\"M140.696 1486.45 L2352.76 1486.45 L2352.76 47.2441 L140.696 47.2441  Z\" fill=\"#ffffff\" fill-rule=\"evenodd\" fill-opacity=\"1\"/>\n",
              "<defs>\n",
              "  <clipPath id=\"clip582\">\n",
              "    <rect x=\"140\" y=\"47\" width=\"2213\" height=\"1440\"/>\n",
              "  </clipPath>\n",
              "</defs>\n",
              "<polyline clip-path=\"url(#clip582)\" style=\"stroke:#000000; stroke-linecap:round; stroke-linejoin:round; stroke-width:2; stroke-opacity:0.1; fill:none\" points=\"411.986,1486.45 411.986,47.2441 \"/>\n",
              "<polyline clip-path=\"url(#clip582)\" style=\"stroke:#000000; stroke-linecap:round; stroke-linejoin:round; stroke-width:2; stroke-opacity:0.1; fill:none\" points=\"829.356,1486.45 829.356,47.2441 \"/>\n",
              "<polyline clip-path=\"url(#clip582)\" style=\"stroke:#000000; stroke-linecap:round; stroke-linejoin:round; stroke-width:2; stroke-opacity:0.1; fill:none\" points=\"1246.73,1486.45 1246.73,47.2441 \"/>\n",
              "<polyline clip-path=\"url(#clip582)\" style=\"stroke:#000000; stroke-linecap:round; stroke-linejoin:round; stroke-width:2; stroke-opacity:0.1; fill:none\" points=\"1664.1,1486.45 1664.1,47.2441 \"/>\n",
              "<polyline clip-path=\"url(#clip582)\" style=\"stroke:#000000; stroke-linecap:round; stroke-linejoin:round; stroke-width:2; stroke-opacity:0.1; fill:none\" points=\"2081.47,1486.45 2081.47,47.2441 \"/>\n",
              "<polyline clip-path=\"url(#clip580)\" style=\"stroke:#000000; stroke-linecap:round; stroke-linejoin:round; stroke-width:4; stroke-opacity:1; fill:none\" points=\"140.696,1486.45 2352.76,1486.45 \"/>\n",
              "<polyline clip-path=\"url(#clip580)\" style=\"stroke:#000000; stroke-linecap:round; stroke-linejoin:round; stroke-width:4; stroke-opacity:1; fill:none\" points=\"411.986,1486.45 411.986,1467.55 \"/>\n",
              "<polyline clip-path=\"url(#clip580)\" style=\"stroke:#000000; stroke-linecap:round; stroke-linejoin:round; stroke-width:4; stroke-opacity:1; fill:none\" points=\"829.356,1486.45 829.356,1467.55 \"/>\n",
              "<polyline clip-path=\"url(#clip580)\" style=\"stroke:#000000; stroke-linecap:round; stroke-linejoin:round; stroke-width:4; stroke-opacity:1; fill:none\" points=\"1246.73,1486.45 1246.73,1467.55 \"/>\n",
              "<polyline clip-path=\"url(#clip580)\" style=\"stroke:#000000; stroke-linecap:round; stroke-linejoin:round; stroke-width:4; stroke-opacity:1; fill:none\" points=\"1664.1,1486.45 1664.1,1467.55 \"/>\n",
              "<polyline clip-path=\"url(#clip580)\" style=\"stroke:#000000; stroke-linecap:round; stroke-linejoin:round; stroke-width:4; stroke-opacity:1; fill:none\" points=\"2081.47,1486.45 2081.47,1467.55 \"/>\n",
              "<path clip-path=\"url(#clip580)\" d=\"M406.639 1544.91 L422.958 1544.91 L422.958 1548.85 L401.014 1548.85 L401.014 1544.91 Q403.676 1542.16 408.259 1537.53 Q412.866 1532.88 414.046 1531.53 Q416.291 1529.01 417.171 1527.27 Q418.074 1525.51 418.074 1523.82 Q418.074 1521.07 416.129 1519.33 Q414.208 1517.6 411.106 1517.6 Q408.907 1517.6 406.454 1518.36 Q404.023 1519.13 401.245 1520.68 L401.245 1515.95 Q404.069 1514.82 406.523 1514.24 Q408.977 1513.66 411.014 1513.66 Q416.384 1513.66 419.579 1516.35 Q422.773 1519.03 422.773 1523.52 Q422.773 1525.65 421.963 1527.57 Q421.176 1529.47 419.069 1532.07 Q418.491 1532.74 415.389 1535.95 Q412.287 1539.15 406.639 1544.91 Z\" fill=\"#000000\" fill-rule=\"nonzero\" fill-opacity=\"1\" /><path clip-path=\"url(#clip580)\" d=\"M832.365 1518.36 L820.56 1536.81 L832.365 1536.81 L832.365 1518.36 M831.138 1514.29 L837.018 1514.29 L837.018 1536.81 L841.948 1536.81 L841.948 1540.7 L837.018 1540.7 L837.018 1548.85 L832.365 1548.85 L832.365 1540.7 L816.763 1540.7 L816.763 1536.19 L831.138 1514.29 Z\" fill=\"#000000\" fill-rule=\"nonzero\" fill-opacity=\"1\" /><path clip-path=\"url(#clip580)\" d=\"M1247.13 1529.7 Q1243.98 1529.7 1242.13 1531.86 Q1240.3 1534.01 1240.3 1537.76 Q1240.3 1541.49 1242.13 1543.66 Q1243.98 1545.82 1247.13 1545.82 Q1250.28 1545.82 1252.11 1543.66 Q1253.96 1541.49 1253.96 1537.76 Q1253.96 1534.01 1252.11 1531.86 Q1250.28 1529.7 1247.13 1529.7 M1256.41 1515.05 L1256.41 1519.31 Q1254.65 1518.48 1252.85 1518.04 Q1251.07 1517.6 1249.31 1517.6 Q1244.68 1517.6 1242.22 1520.72 Q1239.79 1523.85 1239.45 1530.17 Q1240.81 1528.15 1242.87 1527.09 Q1244.93 1526 1247.41 1526 Q1252.62 1526 1255.63 1529.17 Q1258.66 1532.32 1258.66 1537.76 Q1258.66 1543.08 1255.51 1546.3 Q1252.36 1549.52 1247.13 1549.52 Q1241.14 1549.52 1237.96 1544.94 Q1234.79 1540.33 1234.79 1531.6 Q1234.79 1523.41 1238.68 1518.55 Q1242.57 1513.66 1249.12 1513.66 Q1250.88 1513.66 1252.66 1514.01 Q1254.47 1514.36 1256.41 1515.05 Z\" fill=\"#000000\" fill-rule=\"nonzero\" fill-opacity=\"1\" /><path clip-path=\"url(#clip580)\" d=\"M1664.1 1532.44 Q1660.76 1532.44 1658.84 1534.22 Q1656.94 1536 1656.94 1539.13 Q1656.94 1542.25 1658.84 1544.03 Q1660.76 1545.82 1664.1 1545.82 Q1667.43 1545.82 1669.35 1544.03 Q1671.27 1542.23 1671.27 1539.13 Q1671.27 1536 1669.35 1534.22 Q1667.45 1532.44 1664.1 1532.44 M1659.42 1530.45 Q1656.41 1529.7 1654.72 1527.64 Q1653.05 1525.58 1653.05 1522.62 Q1653.05 1518.48 1655.99 1516.07 Q1658.96 1513.66 1664.1 1513.66 Q1669.26 1513.66 1672.2 1516.07 Q1675.14 1518.48 1675.14 1522.62 Q1675.14 1525.58 1673.45 1527.64 Q1671.78 1529.7 1668.79 1530.45 Q1672.17 1531.23 1674.05 1533.52 Q1675.95 1535.82 1675.95 1539.13 Q1675.95 1544.15 1672.87 1546.83 Q1669.81 1549.52 1664.1 1549.52 Q1658.38 1549.52 1655.3 1546.83 Q1652.24 1544.15 1652.24 1539.13 Q1652.24 1535.82 1654.14 1533.52 Q1656.04 1531.23 1659.42 1530.45 M1657.71 1523.06 Q1657.71 1525.75 1659.37 1527.25 Q1661.06 1528.76 1664.1 1528.76 Q1667.1 1528.76 1668.79 1527.25 Q1670.51 1525.75 1670.51 1523.06 Q1670.51 1520.38 1668.79 1518.87 Q1667.1 1517.37 1664.1 1517.37 Q1661.06 1517.37 1659.37 1518.87 Q1657.71 1520.38 1657.71 1523.06 Z\" fill=\"#000000\" fill-rule=\"nonzero\" fill-opacity=\"1\" /><path clip-path=\"url(#clip580)\" d=\"M2056.15 1544.91 L2063.79 1544.91 L2063.79 1518.55 L2055.48 1520.21 L2055.48 1515.95 L2063.75 1514.29 L2068.42 1514.29 L2068.42 1544.91 L2076.06 1544.91 L2076.06 1548.85 L2056.15 1548.85 L2056.15 1544.91 Z\" fill=\"#000000\" fill-rule=\"nonzero\" fill-opacity=\"1\" /><path clip-path=\"url(#clip580)\" d=\"M2095.5 1517.37 Q2091.89 1517.37 2090.06 1520.93 Q2088.26 1524.47 2088.26 1531.6 Q2088.26 1538.71 2090.06 1542.27 Q2091.89 1545.82 2095.5 1545.82 Q2099.14 1545.82 2100.94 1542.27 Q2102.77 1538.71 2102.77 1531.6 Q2102.77 1524.47 2100.94 1520.93 Q2099.14 1517.37 2095.5 1517.37 M2095.5 1513.66 Q2101.31 1513.66 2104.37 1518.27 Q2107.45 1522.85 2107.45 1531.6 Q2107.45 1540.33 2104.37 1544.94 Q2101.31 1549.52 2095.5 1549.52 Q2089.69 1549.52 2086.62 1544.94 Q2083.56 1540.33 2083.56 1531.6 Q2083.56 1522.85 2086.62 1518.27 Q2089.69 1513.66 2095.5 1513.66 Z\" fill=\"#000000\" fill-rule=\"nonzero\" fill-opacity=\"1\" /><polyline clip-path=\"url(#clip582)\" style=\"stroke:#000000; stroke-linecap:round; stroke-linejoin:round; stroke-width:2; stroke-opacity:0.1; fill:none\" points=\"140.696,1445.72 2352.76,1445.72 \"/>\n",
              "<polyline clip-path=\"url(#clip582)\" style=\"stroke:#000000; stroke-linecap:round; stroke-linejoin:round; stroke-width:2; stroke-opacity:0.1; fill:none\" points=\"140.696,1174.17 2352.76,1174.17 \"/>\n",
              "<polyline clip-path=\"url(#clip582)\" style=\"stroke:#000000; stroke-linecap:round; stroke-linejoin:round; stroke-width:2; stroke-opacity:0.1; fill:none\" points=\"140.696,902.62 2352.76,902.62 \"/>\n",
              "<polyline clip-path=\"url(#clip582)\" style=\"stroke:#000000; stroke-linecap:round; stroke-linejoin:round; stroke-width:2; stroke-opacity:0.1; fill:none\" points=\"140.696,631.072 2352.76,631.072 \"/>\n",
              "<polyline clip-path=\"url(#clip582)\" style=\"stroke:#000000; stroke-linecap:round; stroke-linejoin:round; stroke-width:2; stroke-opacity:0.1; fill:none\" points=\"140.696,359.524 2352.76,359.524 \"/>\n",
              "<polyline clip-path=\"url(#clip582)\" style=\"stroke:#000000; stroke-linecap:round; stroke-linejoin:round; stroke-width:2; stroke-opacity:0.1; fill:none\" points=\"140.696,87.9763 2352.76,87.9763 \"/>\n",
              "<polyline clip-path=\"url(#clip580)\" style=\"stroke:#000000; stroke-linecap:round; stroke-linejoin:round; stroke-width:4; stroke-opacity:1; fill:none\" points=\"140.696,1486.45 140.696,47.2441 \"/>\n",
              "<polyline clip-path=\"url(#clip580)\" style=\"stroke:#000000; stroke-linecap:round; stroke-linejoin:round; stroke-width:4; stroke-opacity:1; fill:none\" points=\"140.696,1445.72 159.593,1445.72 \"/>\n",
              "<polyline clip-path=\"url(#clip580)\" style=\"stroke:#000000; stroke-linecap:round; stroke-linejoin:round; stroke-width:4; stroke-opacity:1; fill:none\" points=\"140.696,1174.17 159.593,1174.17 \"/>\n",
              "<polyline clip-path=\"url(#clip580)\" style=\"stroke:#000000; stroke-linecap:round; stroke-linejoin:round; stroke-width:4; stroke-opacity:1; fill:none\" points=\"140.696,902.62 159.593,902.62 \"/>\n",
              "<polyline clip-path=\"url(#clip580)\" style=\"stroke:#000000; stroke-linecap:round; stroke-linejoin:round; stroke-width:4; stroke-opacity:1; fill:none\" points=\"140.696,631.072 159.593,631.072 \"/>\n",
              "<polyline clip-path=\"url(#clip580)\" style=\"stroke:#000000; stroke-linecap:round; stroke-linejoin:round; stroke-width:4; stroke-opacity:1; fill:none\" points=\"140.696,359.524 159.593,359.524 \"/>\n",
              "<polyline clip-path=\"url(#clip580)\" style=\"stroke:#000000; stroke-linecap:round; stroke-linejoin:round; stroke-width:4; stroke-opacity:1; fill:none\" points=\"140.696,87.9763 159.593,87.9763 \"/>\n",
              "<path clip-path=\"url(#clip580)\" d=\"M92.7512 1431.51 Q89.1401 1431.51 87.3114 1435.08 Q85.5058 1438.62 85.5058 1445.75 Q85.5058 1452.86 87.3114 1456.42 Q89.1401 1459.96 92.7512 1459.96 Q96.3854 1459.96 98.1909 1456.42 Q100.02 1452.86 100.02 1445.75 Q100.02 1438.62 98.1909 1435.08 Q96.3854 1431.51 92.7512 1431.51 M92.7512 1427.81 Q98.5613 1427.81 101.617 1432.42 Q104.696 1437 104.696 1445.75 Q104.696 1454.48 101.617 1459.08 Q98.5613 1463.67 92.7512 1463.67 Q86.941 1463.67 83.8623 1459.08 Q80.8068 1454.48 80.8068 1445.75 Q80.8068 1437 83.8623 1432.42 Q86.941 1427.81 92.7512 1427.81 Z\" fill=\"#000000\" fill-rule=\"nonzero\" fill-opacity=\"1\" /><path clip-path=\"url(#clip580)\" d=\"M83.7929 1156.89 L102.149 1156.89 L102.149 1160.82 L88.0753 1160.82 L88.0753 1169.3 Q89.0938 1168.95 90.1123 1168.79 Q91.1308 1168.6 92.1493 1168.6 Q97.9363 1168.6 101.316 1171.77 Q104.696 1174.94 104.696 1180.36 Q104.696 1185.94 101.223 1189.04 Q97.7511 1192.12 91.4317 1192.12 Q89.2558 1192.12 86.9873 1191.75 Q84.7419 1191.38 82.3346 1190.64 L82.3346 1185.94 Q84.4179 1187.07 86.6401 1187.63 Q88.8623 1188.18 91.3391 1188.18 Q95.3437 1188.18 97.6817 1186.08 Q100.02 1183.97 100.02 1180.36 Q100.02 1176.75 97.6817 1174.64 Q95.3437 1172.54 91.3391 1172.54 Q89.4641 1172.54 87.5892 1172.95 Q85.7373 1173.37 83.7929 1174.25 L83.7929 1156.89 Z\" fill=\"#000000\" fill-rule=\"nonzero\" fill-opacity=\"1\" /><path clip-path=\"url(#clip580)\" d=\"M53.3995 915.965 L61.0384 915.965 L61.0384 889.599 L52.7282 891.266 L52.7282 887.007 L60.9921 885.34 L65.668 885.34 L65.668 915.965 L73.3068 915.965 L73.3068 919.9 L53.3995 919.9 L53.3995 915.965 Z\" fill=\"#000000\" fill-rule=\"nonzero\" fill-opacity=\"1\" /><path clip-path=\"url(#clip580)\" d=\"M92.7512 888.419 Q89.1401 888.419 87.3114 891.983 Q85.5058 895.525 85.5058 902.655 Q85.5058 909.761 87.3114 913.326 Q89.1401 916.868 92.7512 916.868 Q96.3854 916.868 98.1909 913.326 Q100.02 909.761 100.02 902.655 Q100.02 895.525 98.1909 891.983 Q96.3854 888.419 92.7512 888.419 M92.7512 884.715 Q98.5613 884.715 101.617 889.321 Q104.696 893.905 104.696 902.655 Q104.696 911.381 101.617 915.988 Q98.5613 920.571 92.7512 920.571 Q86.941 920.571 83.8623 915.988 Q80.8068 911.381 80.8068 902.655 Q80.8068 893.905 83.8623 889.321 Q86.941 884.715 92.7512 884.715 Z\" fill=\"#000000\" fill-rule=\"nonzero\" fill-opacity=\"1\" /><path clip-path=\"url(#clip580)\" d=\"M54.3949 644.417 L62.0337 644.417 L62.0337 618.051 L53.7236 619.718 L53.7236 615.459 L61.9874 613.792 L66.6633 613.792 L66.6633 644.417 L74.3022 644.417 L74.3022 648.352 L54.3949 648.352 L54.3949 644.417 Z\" fill=\"#000000\" fill-rule=\"nonzero\" fill-opacity=\"1\" /><path clip-path=\"url(#clip580)\" d=\"M83.7929 613.792 L102.149 613.792 L102.149 617.727 L88.0753 617.727 L88.0753 626.199 Q89.0938 625.852 90.1123 625.69 Q91.1308 625.505 92.1493 625.505 Q97.9363 625.505 101.316 628.676 Q104.696 631.848 104.696 637.264 Q104.696 642.843 101.223 645.945 Q97.7511 649.023 91.4317 649.023 Q89.2558 649.023 86.9873 648.653 Q84.7419 648.283 82.3346 647.542 L82.3346 642.843 Q84.4179 643.977 86.6401 644.533 Q88.8623 645.088 91.3391 645.088 Q95.3437 645.088 97.6817 642.982 Q100.02 640.875 100.02 637.264 Q100.02 633.653 97.6817 631.547 Q95.3437 629.44 91.3391 629.44 Q89.4641 629.44 87.5892 629.857 Q85.7373 630.273 83.7929 631.153 L83.7929 613.792 Z\" fill=\"#000000\" fill-rule=\"nonzero\" fill-opacity=\"1\" /><path clip-path=\"url(#clip580)\" d=\"M56.6171 372.869 L72.9365 372.869 L72.9365 376.804 L50.9921 376.804 L50.9921 372.869 Q53.6541 370.114 58.2375 365.485 Q62.8439 360.832 64.0245 359.489 Q66.2698 356.966 67.1494 355.23 Q68.0522 353.471 68.0522 351.781 Q68.0522 349.027 66.1078 347.29 Q64.1865 345.554 61.0847 345.554 Q58.8856 345.554 56.4319 346.318 Q54.0014 347.082 51.2236 348.633 L51.2236 343.911 Q54.0477 342.777 56.5014 342.198 Q58.955 341.619 60.9921 341.619 Q66.3624 341.619 69.5568 344.304 Q72.7513 346.99 72.7513 351.48 Q72.7513 353.61 71.9411 355.531 Q71.1541 357.429 69.0476 360.022 Q68.4689 360.693 65.367 363.911 Q62.2652 367.105 56.6171 372.869 Z\" fill=\"#000000\" fill-rule=\"nonzero\" fill-opacity=\"1\" /><path clip-path=\"url(#clip580)\" d=\"M92.7512 345.323 Q89.1401 345.323 87.3114 348.888 Q85.5058 352.429 85.5058 359.559 Q85.5058 366.665 87.3114 370.23 Q89.1401 373.772 92.7512 373.772 Q96.3854 373.772 98.1909 370.23 Q100.02 366.665 100.02 359.559 Q100.02 352.429 98.1909 348.888 Q96.3854 345.323 92.7512 345.323 M92.7512 341.619 Q98.5613 341.619 101.617 346.226 Q104.696 350.809 104.696 359.559 Q104.696 368.286 101.617 372.892 Q98.5613 377.475 92.7512 377.475 Q86.941 377.475 83.8623 372.892 Q80.8068 368.286 80.8068 359.559 Q80.8068 350.809 83.8623 346.226 Q86.941 341.619 92.7512 341.619 Z\" fill=\"#000000\" fill-rule=\"nonzero\" fill-opacity=\"1\" /><path clip-path=\"url(#clip580)\" d=\"M57.6125 101.321 L73.9318 101.321 L73.9318 105.256 L51.9875 105.256 L51.9875 101.321 Q54.6495 98.5665 59.2328 93.9369 Q63.8393 89.2841 65.0198 87.9416 Q67.2652 85.4184 68.1448 83.6823 Q69.0476 81.9231 69.0476 80.2333 Q69.0476 77.4786 67.1032 75.7425 Q65.1819 74.0064 62.08 74.0064 Q59.881 74.0064 57.4273 74.7703 Q54.9967 75.5342 52.219 77.0851 L52.219 72.3629 Q55.043 71.2287 57.4967 70.65 Q59.9504 70.0713 61.9874 70.0713 Q67.3578 70.0713 70.5522 72.7565 Q73.7466 75.4416 73.7466 79.9323 Q73.7466 82.062 72.9365 83.9832 Q72.1494 85.8814 70.0429 88.474 Q69.4642 89.1453 66.3624 92.3628 Q63.2606 95.5573 57.6125 101.321 Z\" fill=\"#000000\" fill-rule=\"nonzero\" fill-opacity=\"1\" /><path clip-path=\"url(#clip580)\" d=\"M83.7929 70.6963 L102.149 70.6963 L102.149 74.6314 L88.0753 74.6314 L88.0753 83.1036 Q89.0938 82.7564 90.1123 82.5944 Q91.1308 82.4092 92.1493 82.4092 Q97.9363 82.4092 101.316 85.5805 Q104.696 88.7517 104.696 94.1684 Q104.696 99.747 101.223 102.849 Q97.7511 105.928 91.4317 105.928 Q89.2558 105.928 86.9873 105.557 Q84.7419 105.187 82.3346 104.446 L82.3346 99.747 Q84.4179 100.881 86.6401 101.437 Q88.8623 101.992 91.3391 101.992 Q95.3437 101.992 97.6817 99.8859 Q100.02 97.7795 100.02 94.1684 Q100.02 90.5573 97.6817 88.4508 Q95.3437 86.3443 91.3391 86.3443 Q89.4641 86.3443 87.5892 86.761 Q85.7373 87.1777 83.7929 88.0573 L83.7929 70.6963 Z\" fill=\"#000000\" fill-rule=\"nonzero\" fill-opacity=\"1\" /><polyline clip-path=\"url(#clip582)\" style=\"stroke:#009af9; stroke-linecap:round; stroke-linejoin:round; stroke-width:4; stroke-opacity:1; fill:none\" points=\"203.301,87.9763 411.986,576.762 620.671,956.93 829.356,1228.48 1038.04,1391.41 1246.73,1445.72 1455.41,1391.41 1664.1,1228.48 1872.78,956.93 2081.47,576.762 2290.15,87.9763 \"/>\n",
              "<path clip-path=\"url(#clip580)\" d=\"M2005.38 1438.47 L2279.02 1438.47 L2279.02 1334.79 L2005.38 1334.79  Z\" fill=\"#ffffff\" fill-rule=\"evenodd\" fill-opacity=\"1\"/>\n",
              "<polyline clip-path=\"url(#clip580)\" style=\"stroke:#000000; stroke-linecap:round; stroke-linejoin:round; stroke-width:4; stroke-opacity:1; fill:none\" points=\"2005.38,1438.47 2279.02,1438.47 2279.02,1334.79 2005.38,1334.79 2005.38,1438.47 \"/>\n",
              "<polyline clip-path=\"url(#clip580)\" style=\"stroke:#009af9; stroke-linecap:round; stroke-linejoin:round; stroke-width:4; stroke-opacity:1; fill:none\" points=\"2029.96,1386.63 2177.43,1386.63 \"/>\n",
              "<path clip-path=\"url(#clip580)\" d=\"M2215.85 1406.32 Q2214.05 1410.95 2212.34 1412.36 Q2210.62 1413.78 2207.75 1413.78 L2204.35 1413.78 L2204.35 1410.21 L2206.85 1410.21 Q2208.61 1410.21 2209.58 1409.38 Q2210.55 1408.54 2211.73 1405.44 L2212.5 1403.5 L2202.01 1377.99 L2206.53 1377.99 L2214.63 1398.27 L2222.73 1377.99 L2227.24 1377.99 L2215.85 1406.32 Z\" fill=\"#000000\" fill-rule=\"nonzero\" fill-opacity=\"1\" /><path clip-path=\"url(#clip580)\" d=\"M2234.53 1399.98 L2242.17 1399.98 L2242.17 1373.61 L2233.86 1375.28 L2233.86 1371.02 L2242.13 1369.35 L2246.8 1369.35 L2246.8 1399.98 L2254.44 1399.98 L2254.44 1403.91 L2234.53 1403.91 L2234.53 1399.98 Z\" fill=\"#000000\" fill-rule=\"nonzero\" fill-opacity=\"1\" /></svg>\n"
            ]
          },
          "metadata": {},
          "output_type": "display_data"
        }
      ],
      "source": [
        "# insert your code here\n",
        "function square(x)\n",
        "    sq=x*x;\n",
        " end\n",
        " \n",
        " vec = [-5 -4 -3 -2 -1 0 1 2 3 4 5];\n",
        " y = [];\n",
        " for j=1:length(vec);\n",
        " push!(y,square(vec[j]));\n",
        " end\n",
        " print(y)\n",
        " plot(y)\n",
        " "
      ]
    },
    {
      "cell_type": "markdown",
      "id": "eaca6031-e691-4019-9986-e7127b3df842",
      "metadata": {},
      "source": [
        "## Commit and Push Your Changes to GitHub\n",
        "\n",
        "After completing the previous two exercises, commit your solution file\n",
        "(notebook or otherwise) and push to GitHub. Use an informative commit\n",
        "message which makes it clear what changes you’ve made. The specific\n",
        "workflow for this will vary depending on how you’re writing up your\n",
        "solutions; please search for specifics and ask for help as needed!\n",
        "\n",
        "> **Useful Commit Sizes**\n",
        ">\n",
        "> Ideally, you’d commit whenever you make a “substantial” enough change\n",
        "> that you want to lock in, such as writing the core code for a problem\n",
        "> or completing a problem, if you’re preparing code to be used elsewhere\n",
        "> (by yourself or others), or if you want to ask for help. `git` lets\n",
        "> you revert changes back to a previous commit, so it’s easy to undo\n",
        "> changes or updates which broke something that was previously working,\n",
        "> so changing too many things at once can make it hard to keep track of\n",
        "> what worked when.\n",
        ">\n",
        "> But in this case, go ahead and just commit after finishing the\n",
        "> problems.\n",
        "\n",
        "Push the repository with these commits to GitHub and take a screenshot\n",
        "of the repository page\n",
        "(`https://github.com/BEE4750-FA24/<username>/lab01`) which shows the\n",
        "updated repository. Include that screenshot in your submission as the\n",
        "solution to this problem.\n",
        "\n",
        "## Submitting PDF\n",
        "\n",
        "> **Important**\n",
        ">\n",
        "> These submission instructions will not be repeated on future\n",
        "> assignments!\n",
        "\n",
        "Export your writeup as a PDF and submit it to the “Lab 1” assignment on\n",
        "Gradescope. Make sure that you tag pages corresponding to relevant\n",
        "problems to avoid a 10% penalty.\n",
        "\n",
        "> **Printing Code to PDF**\n",
        ">\n",
        "> You are not required to submit your code when submitting assignments.\n",
        "> However, when printing a notebook to PDF, long lines will run off the\n",
        "> edge of code cells, which may result in comments or code being hidden.\n",
        "> If you see this, go back to the notebook and break up long lines into\n",
        "> shorter onces (for example, see the comment in the above code cell) to\n",
        "> ensure key parts of your results aren’t missing."
      ]
    }
  ],
  "metadata": {
    "kernel_info": {
      "name": "julia"
    },
    "kernelspec": {
      "display_name": "Julia 1.10.4",
      "language": "julia",
      "name": "julia-1.10"
    },
    "language_info": {
      "file_extension": ".jl",
      "mimetype": "application/julia",
      "name": "julia",
      "version": "1.10.4"
    }
  },
  "nbformat": 4,
  "nbformat_minor": 5
}
